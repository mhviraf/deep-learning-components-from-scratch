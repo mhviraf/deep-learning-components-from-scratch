{
  "nbformat": 4,
  "nbformat_minor": 0,
  "metadata": {
    "colab": {
      "provenance": []
    },
    "kernelspec": {
      "name": "python3",
      "display_name": "Python 3"
    },
    "language_info": {
      "name": "python"
    }
  },
  "cells": [
    {
      "cell_type": "markdown",
      "source": [
        "Compared to previous version\n",
        "\n",
        "\n",
        "* Attention weighted embeddings instead of simple mean pooling  \n",
        "* Using `e5-base-v2` instead of `gpt2` for embeddings that is optimized for both retrieval and generation for better semantic discremination\n",
        "*   Pre-normalizing embeddings for more efficient inference\n",
        "\n"
      ],
      "metadata": {
        "id": "IJz2gyaVGJJq"
      }
    },
    {
      "cell_type": "code",
      "execution_count": 8,
      "metadata": {
        "id": "e0UsyrMJTChp"
      },
      "outputs": [],
      "source": [
        "# https://arxiv.org/pdf/2005.11401\n",
        "\n",
        "import copy\n",
        "import torch\n",
        "from transformers import AutoTokenizer, AutoModelForSeq2SeqLM, AutoModel"
      ]
    },
    {
      "cell_type": "code",
      "source": [
        "device = torch.device(\"cuda\" if torch.cuda.is_available() else \"cpu\")\n",
        "device"
      ],
      "metadata": {
        "colab": {
          "base_uri": "https://localhost:8080/"
        },
        "id": "Vs6Pr1lPU9t3",
        "outputId": "04605095-a812-40cd-cfef-8ad9cb828c45"
      },
      "execution_count": 9,
      "outputs": [
        {
          "output_type": "execute_result",
          "data": {
            "text/plain": [
              "device(type='cpu')"
            ]
          },
          "metadata": {},
          "execution_count": 9
        }
      ]
    },
    {
      "cell_type": "code",
      "source": [
        "embedding_model_name = \"intfloat/e5-base-v2\"\n",
        "embedding_tokenizer = AutoTokenizer.from_pretrained(embedding_model_name)\n",
        "embedding_model = AutoModel.from_pretrained(embedding_model_name, output_hidden_states=True, output_attentions=True)"
      ],
      "metadata": {
        "id": "O9BhdpUKTkIa"
      },
      "execution_count": 35,
      "outputs": []
    },
    {
      "cell_type": "code",
      "source": [
        "chunks = [\n",
        "    \"The town of Alderwick is known for its glassblowing tradition, which dates back to the late 1700s. Families there still pass down specialized techniques for producing colored glass using local minerals.\",\n",
        "    \"The River Kelburn flows only 46 kilometers before reaching the sea, yet it sustains a surprisingly diverse ecosystem of freshwater mussels, herons, and a rare species of trout found nowhere else.\",\n",
        "    \"In 1923, the engineer Clara Whitcombe designed a modular bridge system made of interlocking steel plates. Though few were built, the concept influenced modern prefabricated bridge design.\",\n",
        "    \"The mineral veridite is notable for its deep green color and waxy luster. Small deposits have been found in northern Canada, where it is sometimes carved into ornamental beads.\",\n",
        "    \"Researchers at the Lydmere Observatory created a star catalog specifically focused on binary systems with highly eccentric orbits. Their findings suggested unusual stability in pairs once thought unstable.\",\n",
        "    \"A traditional dessert in the coastal region of Marovia is a layered pastry filled with almond cream and soaked in citrus syrup. Locals prepare it during midsummer festivals to symbolize abundance.\",\n",
        "    \"The Selwick Dial is a mechanical device built in the 1890s that calculates tidal movements. It relies on a set of rotating brass disks engraved with lunar phases and coastal calibration data.\",\n",
        "    \"Unlike most orchids, the Frostpetal variety blooms only during cold months. Its white blossoms appear after the first snowfall and are pollinated by winter moths active in freezing temperatures.\",\n",
        "    \"In early computing history, the Bronswick-12 was a failed attempt at building a portable typewriter-sized computer. Weighing 14 kilograms, it was too heavy to succeed but inspired later laptops.\",\n",
        "    \"The city of Durness implemented a community-run power grid in 2008 using tidal turbines. Today nearly 70 percent of its households rely on locally generated renewable energy.\",\n",
        "    \"The Ashgrove Manuscript contains herbal remedies described by a 14th-century physician. Many recipes combine medicinal plants with ritual instructions, suggesting a blend of science and folklore.\",\n",
        "    \"Lysium clay is a natural pigment that shifts from blue to violet depending on the angle of sunlight. Ancient potters prized it for ceramics that seemed to change color through the day.\",\n",
        "    \"The Polar Survey of 1974 reported unexpected volcanic vents beneath the Arctic ice sheet. The discovery reshaped theories of geothermal activity in polar regions.\",\n",
        "    \"In the festival of Lantern Rest, villagers float small reed boats with candles downriver. The custom is believed to honor ancestors and mark the transition from winter to spring.\",\n",
        "    \"The Mavricon Cipher is an encryption method invented during the early telegraph era. It substitutes letters with shifting geometric symbols, making it difficult to decode without a key grid.\",\n",
        "    \"Researchers in experimental acoustics found that sound waves under 15 hertz can influence balance perception. Though inaudible, these infrasonic vibrations create a sense of dizziness in test subjects.\",\n",
        "    \"The fruit of the candleberry tree produces a wax that burns cleanly without smoke. Before petroleum-based candles, entire villages harvested the berries for household lighting.\",\n",
        "    \"During excavation near the city of Brackford, archaeologists uncovered a series of underground halls carved with spiral motifs. Radiocarbon dating placed the site around 900 BCE.\",\n",
        "    \"The flightless bird known as the Silver Rail survives on a single island in the South Atlantic. Its feathers shimmer with a metallic sheen, which helps it blend into rocky coastlines.\",\n",
        "    \"In 1961, the mathematician Orla Jensen proposed a number system based on repeating sequences of primes. Though impractical for calculation, it fascinated theorists studying abstract structures.\"\n",
        "]"
      ],
      "metadata": {
        "id": "O9S71KAlbZQy"
      },
      "execution_count": 12,
      "outputs": []
    },
    {
      "cell_type": "code",
      "source": [
        "embedding_tokenizer.encode(\"hi\")"
      ],
      "metadata": {
        "colab": {
          "base_uri": "https://localhost:8080/"
        },
        "id": "6Qm8e0XqLyhI",
        "outputId": "9dc43dcf-6e39-43a9-cbb1-b212f8708ce2"
      },
      "execution_count": 55,
      "outputs": [
        {
          "output_type": "execute_result",
          "data": {
            "text/plain": [
              "[101, 7632, 102]"
            ]
          },
          "metadata": {},
          "execution_count": 55
        }
      ]
    },
    {
      "cell_type": "code",
      "source": [
        "def text_to_embedding(prompt, model=embedding_model, tokenizer=embedding_tokenizer, pooling_type=\"attention_weighted\"):\n",
        "  output = model(torch.tensor([tokenizer.encode(prompt)]))\n",
        "  embedding = output.last_hidden_state[0]\n",
        "  if pooling_type == \"mean\":\n",
        "    pooled_embedding = embedding.mean(dim=0)\n",
        "  elif pooling_type == \"attention_weighted\":\n",
        "    attention_weights = output.attentions[-1].squeeze(0).mean(dim=0)[:, 0] # for CLS token\n",
        "    pooled_embedding = attention_weights @ embedding\n",
        "  elif pooling_type == \"cls\":\n",
        "    pooled_embedding = embedding[0, :]\n",
        "  else:\n",
        "    raise NotImplemented\n",
        "\n",
        "  normalized_embedding = pooled_embedding / torch.norm(pooled_embedding)\n",
        "  return normalized_embedding\n",
        "\n",
        "embeddings = [text_to_embedding(chunk) for chunk in chunks]"
      ],
      "metadata": {
        "id": "GTqodMw4YiBI"
      },
      "execution_count": 75,
      "outputs": []
    },
    {
      "cell_type": "code",
      "source": [
        "embeddings[0].shape"
      ],
      "metadata": {
        "colab": {
          "base_uri": "https://localhost:8080/"
        },
        "id": "9PiYIRXSbNR4",
        "outputId": "b33f6656-54ad-45f9-b894-945cd66412f9"
      },
      "execution_count": 76,
      "outputs": [
        {
          "output_type": "execute_result",
          "data": {
            "text/plain": [
              "torch.Size([768])"
            ]
          },
          "metadata": {},
          "execution_count": 76
        }
      ]
    },
    {
      "cell_type": "code",
      "source": [
        "generator_model_name = \"google/flan-t5-small\"\n",
        "generator_tokenizer = AutoTokenizer.from_pretrained(generator_model_name)\n",
        "generator_model = AutoModelForSeq2SeqLM.from_pretrained(generator_model_name).to(device)"
      ],
      "metadata": {
        "id": "4hme_NcMhU6s"
      },
      "execution_count": 77,
      "outputs": []
    },
    {
      "cell_type": "code",
      "source": [
        "def rag_retriever(prompt, top_k=3, print_similarity_scores=False):\n",
        "  prompt_embedding = text_to_embedding(prompt)\n",
        "\n",
        "  embedding_scores = []\n",
        "  for i, chunk_embedding in enumerate(embeddings):\n",
        "    cosine_similarity = torch.dot(prompt_embedding, chunk_embedding).item()  # vectors are already normalized hence cosine similarity == dot product\n",
        "    embedding_scores.append((i, cosine_similarity))\n",
        "\n",
        "  if print_similarity_scores:\n",
        "    print(embedding_scores)\n",
        "\n",
        "  return [\n",
        "      chunks[id]\n",
        "      for id, score in sorted(embedding_scores, key=lambda x: x[1], reverse=True)[:top_k]\n",
        "  ]"
      ],
      "metadata": {
        "id": "p6l4SvsBb1NZ"
      },
      "execution_count": 78,
      "outputs": []
    },
    {
      "cell_type": "code",
      "source": [
        "rag_retriever(chunks[0], 3, True)"
      ],
      "metadata": {
        "colab": {
          "base_uri": "https://localhost:8080/"
        },
        "id": "l5F_mpRrHYpw",
        "outputId": "5f01309d-ea5d-441a-9a94-6846baac1475"
      },
      "execution_count": 80,
      "outputs": [
        {
          "output_type": "stream",
          "name": "stdout",
          "text": [
            "[(0, 1.0000001192092896), (1, 0.7374454140663147), (2, 0.7531095743179321), (3, 0.7874753475189209), (4, 0.7534308433532715), (5, 0.7852730751037598), (6, 0.7961565256118774), (7, 0.7430126667022705), (8, 0.7461990118026733), (9, 0.7723017930984497), (10, 0.7652126550674438), (11, 0.8015544414520264), (12, 0.7438547611236572), (13, 0.773317813873291), (14, 0.7475773096084595), (15, 0.7374314069747925), (16, 0.8047183156013489), (17, 0.7511347532272339), (18, 0.762906551361084), (19, 0.7113053798675537)]\n"
          ]
        },
        {
          "output_type": "execute_result",
          "data": {
            "text/plain": [
              "['The town of Alderwick is known for its glassblowing tradition, which dates back to the late 1700s. Families there still pass down specialized techniques for producing colored glass using local minerals.',\n",
              " 'The fruit of the candleberry tree produces a wax that burns cleanly without smoke. Before petroleum-based candles, entire villages harvested the berries for household lighting.',\n",
              " 'Lysium clay is a natural pigment that shifts from blue to violet depending on the angle of sunlight. Ancient potters prized it for ceramics that seemed to change color through the day.']"
            ]
          },
          "metadata": {},
          "execution_count": 80
        }
      ]
    },
    {
      "cell_type": "code",
      "source": [
        "def rag_generator(prompt, top_k=1):\n",
        "  context = \"Use the following context to answer the question:\" + \"\\n - \".join(rag_retriever(prompt, top_k=top_k))\n",
        "  enriched_prompt = context + \"\\n Question: \" + prompt + \"\\n Answer:\"\n",
        "  print(f\"{enriched_prompt=}\")\n",
        "  inputs = generator_tokenizer(enriched_prompt, return_tensors=\"pt\").to(device)\n",
        "  outputs = generator_model.generate(**inputs)\n",
        "  return generator_tokenizer.decode(outputs[0], skip_special_tokens=True)"
      ],
      "metadata": {
        "id": "kS6GFQcAc9bs"
      },
      "execution_count": 85,
      "outputs": []
    },
    {
      "cell_type": "code",
      "source": [
        "def non_rag_generator(prompt):\n",
        "  inputs = generator_tokenizer(prompt, return_tensors=\"pt\").to(device)\n",
        "  outputs = generator_model.generate(**inputs)\n",
        "  return generator_tokenizer.decode(outputs[0], skip_special_tokens=True)"
      ],
      "metadata": {
        "id": "OIQbT1odiQHZ"
      },
      "execution_count": 86,
      "outputs": []
    },
    {
      "cell_type": "markdown",
      "source": [
        "# Test"
      ],
      "metadata": {
        "id": "Fjn1Wmjijd37"
      }
    },
    {
      "cell_type": "code",
      "source": [
        "non_rag_generator(\"Who designed a modular bridge system with interlocking steel plates in 1923?\")"
      ],
      "metadata": {
        "colab": {
          "base_uri": "https://localhost:8080/",
          "height": 35
        },
        "id": "I_kEeDb0i3gw",
        "outputId": "47459ba2-07ff-457c-930a-d6a75789f2bf"
      },
      "execution_count": 87,
      "outputs": [
        {
          "output_type": "execute_result",
          "data": {
            "text/plain": [
              "'john w. w. sturgeon'"
            ],
            "application/vnd.google.colaboratory.intrinsic+json": {
              "type": "string"
            }
          },
          "metadata": {},
          "execution_count": 87
        }
      ]
    },
    {
      "cell_type": "code",
      "source": [
        "rag_generator(\"Who designed a modular bridge system with interlocking steel plates in 1923?\", top_k=3)"
      ],
      "metadata": {
        "colab": {
          "base_uri": "https://localhost:8080/",
          "height": 72
        },
        "id": "5nDHcy8Ci6tF",
        "outputId": "10ff5c20-05b4-4269-ea99-d656f8548cac"
      },
      "execution_count": 92,
      "outputs": [
        {
          "output_type": "stream",
          "name": "stdout",
          "text": [
            "enriched_prompt='Use the following context to answer the question:In 1923, the engineer Clara Whitcombe designed a modular bridge system made of interlocking steel plates. Though few were built, the concept influenced modern prefabricated bridge design.\\n - In 1961, the mathematician Orla Jensen proposed a number system based on repeating sequences of primes. Though impractical for calculation, it fascinated theorists studying abstract structures.\\n - The Mavricon Cipher is an encryption method invented during the early telegraph era. It substitutes letters with shifting geometric symbols, making it difficult to decode without a key grid.\\n Question: Who designed a modular bridge system with interlocking steel plates in 1923?\\n Answer:'\n"
          ]
        },
        {
          "output_type": "execute_result",
          "data": {
            "text/plain": [
              "'Clara Whitcombe'"
            ],
            "application/vnd.google.colaboratory.intrinsic+json": {
              "type": "string"
            }
          },
          "metadata": {},
          "execution_count": 92
        }
      ]
    },
    {
      "cell_type": "code",
      "source": [
        "non_rag_generator(\"Which town is famous for its glassblowing tradition starting in the 1700s?\")"
      ],
      "metadata": {
        "colab": {
          "base_uri": "https://localhost:8080/",
          "height": 35
        },
        "id": "hN_6OlDSjCKX",
        "outputId": "8b5256af-2424-44d9-fc8b-b443b9922bc7"
      },
      "execution_count": 28,
      "outputs": [
        {
          "output_type": "execute_result",
          "data": {
            "text/plain": [
              "'st johns'"
            ],
            "application/vnd.google.colaboratory.intrinsic+json": {
              "type": "string"
            }
          },
          "metadata": {},
          "execution_count": 28
        }
      ]
    },
    {
      "cell_type": "code",
      "source": [
        "rag_generator(\"Which town is famous for its glassblowing tradition starting in the 1700s?\")"
      ],
      "metadata": {
        "colab": {
          "base_uri": "https://localhost:8080/",
          "height": 72
        },
        "id": "oeoj7WZ4jTI0",
        "outputId": "b306c431-3cdb-4335-d42d-c9a7e5a523f6"
      },
      "execution_count": 89,
      "outputs": [
        {
          "output_type": "stream",
          "name": "stdout",
          "text": [
            "enriched_prompt='Use the following context to answer the question:The town of Alderwick is known for its glassblowing tradition, which dates back to the late 1700s. Families there still pass down specialized techniques for producing colored glass using local minerals.\\n Question: Which town is famous for its glassblowing tradition starting in the 1700s?\\n Answer:'\n"
          ]
        },
        {
          "output_type": "execute_result",
          "data": {
            "text/plain": [
              "'Alderwick'"
            ],
            "application/vnd.google.colaboratory.intrinsic+json": {
              "type": "string"
            }
          },
          "metadata": {},
          "execution_count": 89
        }
      ]
    },
    {
      "cell_type": "code",
      "source": [
        "non_rag_generator(\"Which orchid blooms only in winter after the first snowfall?\")"
      ],
      "metadata": {
        "colab": {
          "base_uri": "https://localhost:8080/",
          "height": 35
        },
        "id": "dImbawJxjT2w",
        "outputId": "8aaef1d2-0cb8-4e3c-9835-b62d594d4c26"
      },
      "execution_count": 90,
      "outputs": [
        {
          "output_type": "execute_result",
          "data": {
            "text/plain": [
              "'sturgeon'"
            ],
            "application/vnd.google.colaboratory.intrinsic+json": {
              "type": "string"
            }
          },
          "metadata": {},
          "execution_count": 90
        }
      ]
    },
    {
      "cell_type": "code",
      "source": [
        "rag_generator(\"Which orchid blooms only in winter after the first snowfall?\", top_k=3)"
      ],
      "metadata": {
        "colab": {
          "base_uri": "https://localhost:8080/",
          "height": 72
        },
        "id": "x8JgfdxFwr_c",
        "outputId": "cbec7f7d-9c11-48ec-ecbf-c944f7922f3b"
      },
      "execution_count": 91,
      "outputs": [
        {
          "output_type": "stream",
          "name": "stdout",
          "text": [
            "enriched_prompt='Use the following context to answer the question:Unlike most orchids, the Frostpetal variety blooms only during cold months. Its white blossoms appear after the first snowfall and are pollinated by winter moths active in freezing temperatures.\\n - In the festival of Lantern Rest, villagers float small reed boats with candles downriver. The custom is believed to honor ancestors and mark the transition from winter to spring.\\n - The flightless bird known as the Silver Rail survives on a single island in the South Atlantic. Its feathers shimmer with a metallic sheen, which helps it blend into rocky coastlines.\\n Question: Which orchid blooms only in winter after the first snowfall?\\n Answer:'\n"
          ]
        },
        {
          "output_type": "execute_result",
          "data": {
            "text/plain": [
              "'Frostpetal'"
            ],
            "application/vnd.google.colaboratory.intrinsic+json": {
              "type": "string"
            }
          },
          "metadata": {},
          "execution_count": 91
        }
      ]
    },
    {
      "cell_type": "code",
      "source": [
        "non_rag_generator(\"What was candleberry wax used for before petroleum candles?\")"
      ],
      "metadata": {
        "colab": {
          "base_uri": "https://localhost:8080/",
          "height": 35
        },
        "id": "ro4nI64owtbk",
        "outputId": "e3654b2b-162b-49cc-cb94-8d877b32e622"
      },
      "execution_count": 93,
      "outputs": [
        {
          "output_type": "execute_result",
          "data": {
            "text/plain": [
              "'a candle'"
            ],
            "application/vnd.google.colaboratory.intrinsic+json": {
              "type": "string"
            }
          },
          "metadata": {},
          "execution_count": 93
        }
      ]
    },
    {
      "cell_type": "code",
      "source": [
        "rag_generator(\"What was candleberry wax used for before petroleum candles?\", top_k=3)"
      ],
      "metadata": {
        "colab": {
          "base_uri": "https://localhost:8080/",
          "height": 72
        },
        "id": "k2BjXQxq1Py9",
        "outputId": "efd04479-89ea-43f0-d1ec-95f4268fc8c3"
      },
      "execution_count": 94,
      "outputs": [
        {
          "output_type": "stream",
          "name": "stdout",
          "text": [
            "enriched_prompt='Use the following context to answer the question:The fruit of the candleberry tree produces a wax that burns cleanly without smoke. Before petroleum-based candles, entire villages harvested the berries for household lighting.\\n - Lysium clay is a natural pigment that shifts from blue to violet depending on the angle of sunlight. Ancient potters prized it for ceramics that seemed to change color through the day.\\n - The Ashgrove Manuscript contains herbal remedies described by a 14th-century physician. Many recipes combine medicinal plants with ritual instructions, suggesting a blend of science and folklore.\\n Question: What was candleberry wax used for before petroleum candles?\\n Answer:'\n"
          ]
        },
        {
          "output_type": "execute_result",
          "data": {
            "text/plain": [
              "'household lighting'"
            ],
            "application/vnd.google.colaboratory.intrinsic+json": {
              "type": "string"
            }
          },
          "metadata": {},
          "execution_count": 94
        }
      ]
    }
  ]
}