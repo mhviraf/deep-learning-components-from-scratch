{
  "nbformat": 4,
  "nbformat_minor": 0,
  "metadata": {
    "colab": {
      "provenance": []
    },
    "kernelspec": {
      "name": "python3",
      "display_name": "Python 3"
    },
    "language_info": {
      "name": "python"
    }
  },
  "cells": [
    {
      "cell_type": "code",
      "execution_count": 1,
      "metadata": {
        "id": "e0UsyrMJTChp"
      },
      "outputs": [],
      "source": [
        "# https://arxiv.org/pdf/2005.11401\n",
        "\n",
        "import copy\n",
        "import torch\n",
        "from transformers import AutoTokenizer, GPT2Model, AutoModelForSeq2SeqLM"
      ]
    },
    {
      "cell_type": "code",
      "source": [
        "device = torch.device(\"cuda\" if torch.cuda.is_available() else \"cpu\")\n",
        "device"
      ],
      "metadata": {
        "colab": {
          "base_uri": "https://localhost:8080/"
        },
        "id": "Vs6Pr1lPU9t3",
        "outputId": "2017e536-4ee7-40ab-ccfb-72cc217044a2"
      },
      "execution_count": 2,
      "outputs": [
        {
          "output_type": "execute_result",
          "data": {
            "text/plain": [
              "device(type='cpu')"
            ]
          },
          "metadata": {},
          "execution_count": 2
        }
      ]
    },
    {
      "cell_type": "code",
      "source": [
        "embedding_tokenizer = AutoTokenizer.from_pretrained(\"gpt2\")"
      ],
      "metadata": {
        "colab": {
          "base_uri": "https://localhost:8080/"
        },
        "id": "O9BhdpUKTkIa",
        "outputId": "7dd04268-3f89-4521-e42a-a4874a908a6e"
      },
      "execution_count": 3,
      "outputs": [
        {
          "output_type": "stream",
          "name": "stderr",
          "text": [
            "/usr/local/lib/python3.12/dist-packages/huggingface_hub/utils/_auth.py:94: UserWarning: \n",
            "The secret `HF_TOKEN` does not exist in your Colab secrets.\n",
            "To authenticate with the Hugging Face Hub, create a token in your settings tab (https://huggingface.co/settings/tokens), set it as secret in your Google Colab and restart your session.\n",
            "You will be able to reuse this secret in all of your notebooks.\n",
            "Please note that authentication is recommended but still optional to access public models or datasets.\n",
            "  warnings.warn(\n"
          ]
        }
      ]
    },
    {
      "cell_type": "code",
      "source": [
        "chunks = [\n",
        "    \"The town of Alderwick is known for its glassblowing tradition, which dates back to the late 1700s. Families there still pass down specialized techniques for producing colored glass using local minerals.\",\n",
        "    \"The River Kelburn flows only 46 kilometers before reaching the sea, yet it sustains a surprisingly diverse ecosystem of freshwater mussels, herons, and a rare species of trout found nowhere else.\",\n",
        "    \"In 1923, the engineer Clara Whitcombe designed a modular bridge system made of interlocking steel plates. Though few were built, the concept influenced modern prefabricated bridge design.\",\n",
        "    \"The mineral veridite is notable for its deep green color and waxy luster. Small deposits have been found in northern Canada, where it is sometimes carved into ornamental beads.\",\n",
        "    \"Researchers at the Lydmere Observatory created a star catalog specifically focused on binary systems with highly eccentric orbits. Their findings suggested unusual stability in pairs once thought unstable.\",\n",
        "    \"A traditional dessert in the coastal region of Marovia is a layered pastry filled with almond cream and soaked in citrus syrup. Locals prepare it during midsummer festivals to symbolize abundance.\",\n",
        "    \"The Selwick Dial is a mechanical device built in the 1890s that calculates tidal movements. It relies on a set of rotating brass disks engraved with lunar phases and coastal calibration data.\",\n",
        "    \"Unlike most orchids, the Frostpetal variety blooms only during cold months. Its white blossoms appear after the first snowfall and are pollinated by winter moths active in freezing temperatures.\",\n",
        "    \"In early computing history, the Bronswick-12 was a failed attempt at building a portable typewriter-sized computer. Weighing 14 kilograms, it was too heavy to succeed but inspired later laptops.\",\n",
        "    \"The city of Durness implemented a community-run power grid in 2008 using tidal turbines. Today nearly 70 percent of its households rely on locally generated renewable energy.\",\n",
        "    \"The Ashgrove Manuscript contains herbal remedies described by a 14th-century physician. Many recipes combine medicinal plants with ritual instructions, suggesting a blend of science and folklore.\",\n",
        "    \"Lysium clay is a natural pigment that shifts from blue to violet depending on the angle of sunlight. Ancient potters prized it for ceramics that seemed to change color through the day.\",\n",
        "    \"The Polar Survey of 1974 reported unexpected volcanic vents beneath the Arctic ice sheet. The discovery reshaped theories of geothermal activity in polar regions.\",\n",
        "    \"In the festival of Lantern Rest, villagers float small reed boats with candles downriver. The custom is believed to honor ancestors and mark the transition from winter to spring.\",\n",
        "    \"The Mavricon Cipher is an encryption method invented during the early telegraph era. It substitutes letters with shifting geometric symbols, making it difficult to decode without a key grid.\",\n",
        "    \"Researchers in experimental acoustics found that sound waves under 15 hertz can influence balance perception. Though inaudible, these infrasonic vibrations create a sense of dizziness in test subjects.\",\n",
        "    \"The fruit of the candleberry tree produces a wax that burns cleanly without smoke. Before petroleum-based candles, entire villages harvested the berries for household lighting.\",\n",
        "    \"During excavation near the city of Brackford, archaeologists uncovered a series of underground halls carved with spiral motifs. Radiocarbon dating placed the site around 900 BCE.\",\n",
        "    \"The flightless bird known as the Silver Rail survives on a single island in the South Atlantic. Its feathers shimmer with a metallic sheen, which helps it blend into rocky coastlines.\",\n",
        "    \"In 1961, the mathematician Orla Jensen proposed a number system based on repeating sequences of primes. Though impractical for calculation, it fascinated theorists studying abstract structures.\"\n",
        "]"
      ],
      "metadata": {
        "id": "O9S71KAlbZQy"
      },
      "execution_count": 4,
      "outputs": []
    },
    {
      "cell_type": "code",
      "source": [
        "embedding_model = GPT2Model.from_pretrained(\"gpt2\", output_hidden_states=True)"
      ],
      "metadata": {
        "id": "y6sNwR8xYL1O"
      },
      "execution_count": 5,
      "outputs": []
    },
    {
      "cell_type": "code",
      "source": [
        "embeddings = [\n",
        "    embedding_model(torch.tensor([embedding_tokenizer.encode(chunk)])).last_hidden_state[0].mean(dim=0)\n",
        "    for chunk in chunks\n",
        "]"
      ],
      "metadata": {
        "id": "GTqodMw4YiBI"
      },
      "execution_count": 6,
      "outputs": []
    },
    {
      "cell_type": "code",
      "source": [
        "embeddings[0].shape"
      ],
      "metadata": {
        "colab": {
          "base_uri": "https://localhost:8080/"
        },
        "id": "9PiYIRXSbNR4",
        "outputId": "b6ac04f2-7d8d-442d-eb2b-4da806c93274"
      },
      "execution_count": 7,
      "outputs": [
        {
          "output_type": "execute_result",
          "data": {
            "text/plain": [
              "torch.Size([768])"
            ]
          },
          "metadata": {},
          "execution_count": 7
        }
      ]
    },
    {
      "cell_type": "code",
      "source": [
        "model_name = \"google/flan-t5-small\"\n",
        "generator_tokenizer = AutoTokenizer.from_pretrained(model_name)\n",
        "generator_model = AutoModelForSeq2SeqLM.from_pretrained(model_name).to(device)"
      ],
      "metadata": {
        "id": "4hme_NcMhU6s"
      },
      "execution_count": 9,
      "outputs": []
    },
    {
      "cell_type": "code",
      "source": [
        "def rag_retriever(prompt, top_k=3):\n",
        "  prompt_embedding = embedding_model(torch.tensor([embedding_tokenizer.encode(prompt)])).last_hidden_state[0].mean(dim=0)\n",
        "\n",
        "  embedding_scores = []\n",
        "  for i, chunk_embedding in enumerate(embeddings):\n",
        "    cosine_similarity = (torch.dot(prompt_embedding, chunk_embedding) / (torch.norm(chunk_embedding) * torch.norm(prompt_embedding))).item()\n",
        "    embedding_scores.append((i, cosine_similarity))\n",
        "\n",
        "  return [\n",
        "      chunks[id]\n",
        "      for id, score in sorted(embedding_scores, key=lambda x: x[1], reverse=True)[:top_k]\n",
        "  ]"
      ],
      "metadata": {
        "id": "p6l4SvsBb1NZ"
      },
      "execution_count": 14,
      "outputs": []
    },
    {
      "cell_type": "code",
      "source": [
        "def rag_generator(prompt, top_k=1):\n",
        "  context = \"Context:\" + \"\\n\".join(rag_retriever(prompt, top_k=top_k))\n",
        "  enriched_prompt = context + \"\\n Question: \" + prompt\n",
        "  print(f\"{enriched_prompt=}\")\n",
        "  inputs = generator_tokenizer(enriched_prompt, return_tensors=\"pt\").to(device)\n",
        "  outputs = generator_model.generate(**inputs)\n",
        "  return generator_tokenizer.decode(outputs[0], skip_special_tokens=True)"
      ],
      "metadata": {
        "id": "kS6GFQcAc9bs"
      },
      "execution_count": 27,
      "outputs": []
    },
    {
      "cell_type": "code",
      "source": [
        "def non_rag_generator(prompt):\n",
        "  inputs = generator_tokenizer(prompt, return_tensors=\"pt\").to(device)\n",
        "  outputs = generator_model.generate(**inputs)\n",
        "  return generator_tokenizer.decode(outputs[0], skip_special_tokens=True)"
      ],
      "metadata": {
        "id": "OIQbT1odiQHZ"
      },
      "execution_count": 16,
      "outputs": []
    },
    {
      "cell_type": "markdown",
      "source": [
        "# Test"
      ],
      "metadata": {
        "id": "Fjn1Wmjijd37"
      }
    },
    {
      "cell_type": "code",
      "source": [
        "non_rag_generator(\"Who designed a modular bridge system with interlocking steel plates in 1923?\")"
      ],
      "metadata": {
        "colab": {
          "base_uri": "https://localhost:8080/",
          "height": 35
        },
        "id": "I_kEeDb0i3gw",
        "outputId": "8125067f-6c04-4cec-fe91-e74810d9380d"
      },
      "execution_count": 17,
      "outputs": [
        {
          "output_type": "execute_result",
          "data": {
            "text/plain": [
              "'john w. w. sturgeon'"
            ],
            "application/vnd.google.colaboratory.intrinsic+json": {
              "type": "string"
            }
          },
          "metadata": {},
          "execution_count": 17
        }
      ]
    },
    {
      "cell_type": "code",
      "source": [
        "rag_generator(\"Who designed a modular bridge system with interlocking steel plates in 1923?\")"
      ],
      "metadata": {
        "colab": {
          "base_uri": "https://localhost:8080/",
          "height": 72
        },
        "id": "5nDHcy8Ci6tF",
        "outputId": "a444d68b-4244-4fec-a5f4-c46df09ad3a6"
      },
      "execution_count": 18,
      "outputs": [
        {
          "output_type": "stream",
          "name": "stdout",
          "text": [
            "enriched_prompt='Context:In 1923, the engineer Clara Whitcombe designed a modular bridge system made of interlocking steel plates. Though few were built, the concept influenced modern prefabricated bridge design.\\n Question: Who designed a modular bridge system with interlocking steel plates in 1923?'\n"
          ]
        },
        {
          "output_type": "execute_result",
          "data": {
            "text/plain": [
              "'Clara Whitcombe'"
            ],
            "application/vnd.google.colaboratory.intrinsic+json": {
              "type": "string"
            }
          },
          "metadata": {},
          "execution_count": 18
        }
      ]
    },
    {
      "cell_type": "code",
      "source": [
        "non_rag_generator(\"Which town is famous for its glassblowing tradition starting in the 1700s?\")"
      ],
      "metadata": {
        "colab": {
          "base_uri": "https://localhost:8080/",
          "height": 35
        },
        "id": "hN_6OlDSjCKX",
        "outputId": "ed7a087b-5f27-4ec4-f93c-850e67fd30ef"
      },
      "execution_count": 19,
      "outputs": [
        {
          "output_type": "execute_result",
          "data": {
            "text/plain": [
              "'st johns'"
            ],
            "application/vnd.google.colaboratory.intrinsic+json": {
              "type": "string"
            }
          },
          "metadata": {},
          "execution_count": 19
        }
      ]
    },
    {
      "cell_type": "code",
      "source": [
        "rag_generator(\"Which town is famous for its glassblowing tradition starting in the 1700s?\")"
      ],
      "metadata": {
        "colab": {
          "base_uri": "https://localhost:8080/",
          "height": 72
        },
        "id": "oeoj7WZ4jTI0",
        "outputId": "282fa56d-17cf-49f0-f6f5-78fd01962f03"
      },
      "execution_count": 20,
      "outputs": [
        {
          "output_type": "stream",
          "name": "stdout",
          "text": [
            "enriched_prompt='Context:The town of Alderwick is known for its glassblowing tradition, which dates back to the late 1700s. Families there still pass down specialized techniques for producing colored glass using local minerals.\\n Question: Which town is famous for its glassblowing tradition starting in the 1700s?'\n"
          ]
        },
        {
          "output_type": "execute_result",
          "data": {
            "text/plain": [
              "'Alderwick'"
            ],
            "application/vnd.google.colaboratory.intrinsic+json": {
              "type": "string"
            }
          },
          "metadata": {},
          "execution_count": 20
        }
      ]
    },
    {
      "cell_type": "code",
      "source": [
        "non_rag_generator(\"Which orchid blooms only in winter after the first snowfall?\")"
      ],
      "metadata": {
        "colab": {
          "base_uri": "https://localhost:8080/",
          "height": 35
        },
        "id": "dImbawJxjT2w",
        "outputId": "6718af85-f704-439d-c0cc-412b78dd7496"
      },
      "execution_count": 21,
      "outputs": [
        {
          "output_type": "execute_result",
          "data": {
            "text/plain": [
              "'sturgeon'"
            ],
            "application/vnd.google.colaboratory.intrinsic+json": {
              "type": "string"
            }
          },
          "metadata": {},
          "execution_count": 21
        }
      ]
    },
    {
      "cell_type": "code",
      "source": [
        "rag_generator(\"Which orchid blooms only in winter after the first snowfall?\", top_k=3)"
      ],
      "metadata": {
        "colab": {
          "base_uri": "https://localhost:8080/",
          "height": 72
        },
        "id": "x8JgfdxFwr_c",
        "outputId": "4d76f67c-62c5-4bc6-9d3a-250c806b45e0"
      },
      "execution_count": 29,
      "outputs": [
        {
          "output_type": "stream",
          "name": "stdout",
          "text": [
            "enriched_prompt='Context:Unlike most orchids, the Frostpetal variety blooms only during cold months. Its white blossoms appear after the first snowfall and are pollinated by winter moths active in freezing temperatures.\\nThe fruit of the candleberry tree produces a wax that burns cleanly without smoke. Before petroleum-based candles, entire villages harvested the berries for household lighting.\\nThe River Kelburn flows only 46 kilometers before reaching the sea, yet it sustains a surprisingly diverse ecosystem of freshwater mussels, herons, and a rare species of trout found nowhere else.\\n Question: Which orchid blooms only in winter after the first snowfall?'\n"
          ]
        },
        {
          "output_type": "execute_result",
          "data": {
            "text/plain": [
              "'Frostpetal'"
            ],
            "application/vnd.google.colaboratory.intrinsic+json": {
              "type": "string"
            }
          },
          "metadata": {},
          "execution_count": 29
        }
      ]
    },
    {
      "cell_type": "code",
      "source": [
        "non_rag_generator(\"What was candleberry wax used for before petroleum candles?\")"
      ],
      "metadata": {
        "colab": {
          "base_uri": "https://localhost:8080/",
          "height": 35
        },
        "id": "ro4nI64owtbk",
        "outputId": "7798163d-54ae-4b91-dbc4-69b5a092ea87"
      },
      "execution_count": 25,
      "outputs": [
        {
          "output_type": "execute_result",
          "data": {
            "text/plain": [
              "'a candle'"
            ],
            "application/vnd.google.colaboratory.intrinsic+json": {
              "type": "string"
            }
          },
          "metadata": {},
          "execution_count": 25
        }
      ]
    },
    {
      "cell_type": "code",
      "source": [
        "rag_generator(\"What was candleberry wax used for before petroleum candles?\", top_k=3)"
      ],
      "metadata": {
        "colab": {
          "base_uri": "https://localhost:8080/",
          "height": 72
        },
        "id": "k2BjXQxq1Py9",
        "outputId": "ce0921c6-5499-48ee-db7d-a5843b770a6b"
      },
      "execution_count": 28,
      "outputs": [
        {
          "output_type": "stream",
          "name": "stdout",
          "text": [
            "enriched_prompt='Context:The flightless bird known as the Silver Rail survives on a single island in the South Atlantic. Its feathers shimmer with a metallic sheen, which helps it blend into rocky coastlines.\\nThe fruit of the candleberry tree produces a wax that burns cleanly without smoke. Before petroleum-based candles, entire villages harvested the berries for household lighting.\\nThe Ashgrove Manuscript contains herbal remedies described by a 14th-century physician. Many recipes combine medicinal plants with ritual instructions, suggesting a blend of science and folklore.\\n Question: What was candleberry wax used for before petroleum candles?'\n"
          ]
        },
        {
          "output_type": "execute_result",
          "data": {
            "text/plain": [
              "'household lighting'"
            ],
            "application/vnd.google.colaboratory.intrinsic+json": {
              "type": "string"
            }
          },
          "metadata": {},
          "execution_count": 28
        }
      ]
    },
    {
      "cell_type": "code",
      "source": [],
      "metadata": {
        "id": "y2Wmq5ZN1R8I"
      },
      "execution_count": null,
      "outputs": []
    }
  ]
}